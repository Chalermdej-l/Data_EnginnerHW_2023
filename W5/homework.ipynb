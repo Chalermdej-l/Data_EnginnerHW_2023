{
 "cells": [
  {
   "cell_type": "code",
   "execution_count": 87,
   "metadata": {},
   "outputs": [],
   "source": [
    "# Cretea local spark cluster\n",
    "import pyspark\n",
    "from pyspark.sql import SparkSession\n",
    "from pyspark.sql import types\n",
    "\n",
    "spark = SparkSession.builder \\\n",
    "    .master(\"local[*]\") \\\n",
    "    .appName('test') \\\n",
    "    .getOrCreate()"
   ]
  },
  {
   "cell_type": "code",
   "execution_count": 88,
   "metadata": {},
   "outputs": [
    {
     "data": {
      "text/plain": [
       "'3.3.2'"
      ]
     },
     "execution_count": 88,
     "metadata": {},
     "output_type": "execute_result"
    }
   ],
   "source": [
    "# Q1.Execute spark.version. What's the output?\n",
    "# A 1.3.3.2\n",
    "spark.version"
   ]
  },
  {
   "cell_type": "code",
   "execution_count": null,
   "metadata": {},
   "outputs": [],
   "source": [
    "# Q2.What is the average size of the Parquet \n",
    "\n",
    "df = spark.read \\\n",
    "    .option(\"header\", \"true\") \\\n",
    "    .csv('fhvhv_tripdata_2021-06.csv')\n",
    "schema = types.StructType([\n",
    " types.StructField('dispatching_base_num', types.StringType(), True),\n",
    " types.StructField('pickup_datetime', types.TimestampType(), True),\n",
    " types.StructField('dropoff_datetime', types.TimestampType(), True),\n",
    " types.StructField('PULocationID', types.IntegerType(), True),\n",
    " types.StructField('DOLocationID', types.IntegerType(), True),\n",
    " types.StructField('SR_Flag', types.StringType(), True),\n",
    " types.StructField('Affiliated_base_number', types.StringType(), True)])\n",
    "\n",
    "df = spark.read \\\n",
    ".option(\"header\", \"true\") \\\n",
    ".schema(schema) \\\n",
    ".csv('fhvhv_tripdata_2021-06.csv')\n",
    "df = df.repartition(12)\n",
    "df.write.parquet('fhvhv/2021/06/',)\n",
    "\n",
    "# Execting !ls -lh fhvhv/2021/06/ in the terminal\n",
    "# A.2. 24MB"
   ]
  },
  {
   "cell_type": "code",
   "execution_count": 89,
   "metadata": {},
   "outputs": [
    {
     "data": {
      "text/plain": [
       "452470"
      ]
     },
     "execution_count": 89,
     "metadata": {},
     "output_type": "execute_result"
    }
   ],
   "source": [
    "# Q3 How many taxi trips were started on June 15th?\n",
    "from pyspark.sql import functions as F\n",
    "df = spark.read.parquet('fhvhv/2021/06/')\n",
    "# Change datetime to date in a new column\n",
    "df = df \\\n",
    "     .withColumn('pickup_date', F.to_date(df.pickup_datetime))\n",
    "\n",
    "# A 3.452470\n",
    "df.filter(df.pickup_date == '2021-06-15').count()\n",
    "    "
   ]
  },
  {
   "cell_type": "code",
   "execution_count": 90,
   "metadata": {},
   "outputs": [
    {
     "name": "stdout",
     "output_type": "stream",
     "text": [
      "+----------------+\n",
      "|  max(difsecond)|\n",
      "+----------------+\n",
      "|66.8788888888889|\n",
      "+----------------+\n",
      "\n"
     ]
    }
   ],
   "source": [
    "# Q4 How long is the longest trip in the dataset? \n",
    "df_time = df \\\n",
    "    .select('dropoff_datetime','pickup_datetime') \\\n",
    "        .withColumn('difsecond',(df.dropoff_datetime-df.pickup_datetime).cast('long')/3600)\n",
    "\n",
    "#A. 1.66.87\n",
    "df_time.select(F.max(df_time.difsecond)).show()"
   ]
  },
  {
   "cell_type": "code",
   "execution_count": 91,
   "metadata": {},
   "outputs": [],
   "source": [
    "# Q5 What port does Spark's User Interface Dashboard run on by default?\n",
    "# After start the local instance can access the interface with http://localhost:4040/\n",
    "# A.3.4040"
   ]
  },
  {
   "cell_type": "code",
   "execution_count": 92,
   "metadata": {},
   "outputs": [
    {
     "name": "stdout",
     "output_type": "stream",
     "text": [
      "+-------------------+--------------+\n",
      "|               Zone|count_location|\n",
      "+-------------------+--------------+\n",
      "|Crown Heights North|        231279|\n",
      "+-------------------+--------------+\n",
      "only showing top 1 row\n",
      "\n"
     ]
    }
   ],
   "source": [
    "# Q6 What is the name of the most frequent pickup location zone?\n",
    "schema_zone = types.StructType([\n",
    " types.StructField('LocationID', types.IntegerType(), True),\n",
    " types.StructField('Borough', types.StringType(), True),\n",
    " types.StructField('Zone', types.StringType(), True),\n",
    " types.StructField('service_zone', types.StringType(), True)])\n",
    "\n",
    "df_location = spark.read.csv('taxi+_zone_lookup.csv',header=True,schema=schema_zone)\n",
    "df_join = df.join(df_location,df.PULocationID == df_location.LocationID,'inner')\n",
    "\n",
    "# A. 4.Crown Heights North\n",
    "zone_max = df_join \\\n",
    "    .groupBy('Zone') \\\n",
    "    .agg(F.count('Zone').alias('count_location')) \\\n",
    "    .sort(F.desc('count_location')).show(1)"
   ]
  }
 ],
 "metadata": {
  "kernelspec": {
   "display_name": "Python 3.9.7 64-bit",
   "language": "python",
   "name": "python3"
  },
  "language_info": {
   "codemirror_mode": {
    "name": "ipython",
    "version": 3
   },
   "file_extension": ".py",
   "mimetype": "text/x-python",
   "name": "python",
   "nbconvert_exporter": "python",
   "pygments_lexer": "ipython3",
   "version": "3.9.7"
  },
  "orig_nbformat": 4,
  "vscode": {
   "interpreter": {
    "hash": "601b049b69c015f341cf049bdfa863242bcd463fff4e9ea5ae96948b9f5d87db"
   }
  }
 },
 "nbformat": 4,
 "nbformat_minor": 2
}
