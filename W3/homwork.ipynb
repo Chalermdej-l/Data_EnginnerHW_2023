{
 "cells": [
  {
   "cell_type": "code",
   "execution_count": null,
   "metadata": {},
   "outputs": [],
   "source": [
    "# Q.1 run query select count(*) from `homeworkw3.taxi_2019`\n",
    "# A 2.43244696\n",
    "\n",
    "# Q.2 After create both table hover over below query in Big query\n",
    "# select count(distinct Affiliated_base_number) from `homeworkw3.taxi_2019` \n",
    "# select count(distinct Affiliated_base_number) from `homeworkw3.taxi_2019_ex`\n",
    "\n",
    "# A 4.table 317.94 external 0\n",
    "\n",
    "# Q.3 Run this query to find count of null\n",
    "# select count( *) from `homeworkw3.taxi_2019`  where PUlocationID is null and DOlocationID is null\n",
    "# A 1.717748\n",
    "\n",
    "# Q.4 \n",
    "# A 2.Partition by pickup_datetime Cluster on affiliated_base_number\n",
    "\n",
    "# Q5 run query to cretae a parttion and cluster\n",
    "# CREATE TABLE homeworkw3.taxi_2019_partition\n",
    "# PARTITION BY pickup_date\n",
    "# CLUSTER BY\n",
    "#   Affiliated_base_number\n",
    "# AS\n",
    "# select dispatching_base_num,\n",
    "# cast(pickup_datetime as date) as pickup_date,\n",
    "# cast(dropOff_datetime as date) as dropOff_date,\n",
    "# PUlocationID,DOlocationID,SR_Flag,Affiliated_base_number from `homeworkw3.taxi_2019` \n",
    "\n",
    "# use below query to select distinct number with where cluase\n",
    "# select distinct Affiliated_base_number from `homeworkw3.taxi_2019_partition` where pickup_date between '2019-03-01' and '2019-03-31'\n",
    "# select distinct Affiliated_base_number from `homeworkw3.taxi_2019` where pickup_datetime between '2019-03-01' and '2019-03-31'\n",
    "\n",
    "# A 2.647.87 MB for non-partitioned table and 23.06 MB for the partitioned table\n",
    "\n",
    "# Q6 check from detail tab of external table gs://dataengineer_2023/fhv_tripdata_2019.csv.gz\n",
    "# A 4.GCP Bucket\n",
    "\n",
    "# Q7\n",
    "# A 1.True\n",
    "\n",
    "# Q8 Run below pipline to load the file and upload to gcs and bq\n",
    "from prefect import task,flow\n",
    "from prefect_gcp.cloud_storage import GcsBucket\n",
    "from prefect_gcp import GcpCredentials\n",
    "from prefect_gcp.bigquery import bigquery_create_table\n",
    "from google.cloud import bigquery\n",
    "import pandas as pd  \n",
    "from config import credential\n",
    "task()\n",
    "def writegcs(file_list):\n",
    "    block = GcsBucket.load(\"gcs-dataengineer\")\n",
    "    to_name = file_list[file_list.rfind('\\\\')+1:]\n",
    "    block.upload_from_path(from_path=file_list,to_path=to_name)\n",
    "\n",
    "    return None\n",
    "\n",
    "task() \n",
    "def loadfile(year,month):\n",
    "    url =f'https://github.com/DataTalksClub/nyc-tlc-data/releases/download/fhv/fhv_tripdata_{year}-{month:02}.csv.gz'\n",
    "    print(url)\n",
    "    file = pd.read_csv(url)\n",
    "    return file\n",
    "\n",
    "task() \n",
    "def createtable(file,project_id):\n",
    "\n",
    "    client = bigquery.Client(project=project_id)\n",
    "\n",
    "    table = f'{credential.project_id}.dataset.bigquery_pq'\n",
    "    job = client.load_table_from_dataframe(file, table)\n",
    "\n",
    "\n",
    "@flow(name='bq_external')\n",
    "def create_externaltable(project_id):\n",
    "    gcp_credentials = GcpCredentials(project=project_id)    \n",
    "\n",
    "    external = bigquery.ExternalConfig('PARQUET')\n",
    "    external.autodetect = True\n",
    "    external.source_uris = [ 'gs://dataengineer_2023/fhv_tripdata_2019.parquet']\n",
    "    result = bigquery_create_table(\n",
    "        dataset=\"dataset\",\n",
    "        table=\"external_pq\",\n",
    "        location='asia-southeast1',\n",
    "        gcp_credentials=gcp_credentials,\n",
    "        external_config =external    \n",
    "    )\n",
    "    return result\n",
    "\n",
    "\n",
    "flow()\n",
    "def mainflow():\n",
    "    # Define Variable\n",
    "    year = 2019\n",
    "    month = [i for i in range(1,13)]\n",
    "    project_id = credential.project_id\n",
    "    file_all = pd.DataFrame()\n",
    "\n",
    "    # Load in the file from Github\n",
    "    for i in month:\n",
    "         file =loadfile(year,i)\n",
    "         file_all = file_all.append(file)\n",
    "    # Create a combine 2019 data in parquet to local\n",
    "    \n",
    "    path = f'data\\\\fhv_tripdata_{year}.parquet'\n",
    "    file_all.to_parquet(path,index=False)\n",
    "\n",
    "    # Upload file to GCS\n",
    "    _ = writegcs(path)\n",
    "\n",
    "    #Create table in BQ   \n",
    "    _ = create_externaltable(project_id) \n",
    "    _ = createtable(file_all,project_id)    \n",
    "    \n",
    "\n",
    "    return None\n",
    "\n",
    "\n",
    "if __name__ =='__main__':\n",
    "    # Call the pipeline\n",
    "    mainflow()"
   ]
  },
  {
   "cell_type": "code",
   "execution_count": null,
   "metadata": {},
   "outputs": [],
   "source": [
    "from prefect_gcp.cloud_storage import GcsBucket\n",
    "import pandas as pd  \n",
    "\n",
    "def writegcs(file_list):\n",
    "    block = GcsBucket.load(\"gcs-dataengineer\")\n",
    "    to_name = file_list[file_list.rfind('\\\\')+1:]\n",
    "    block.upload_from_path(from_path=file_list,to_path=to_name)\n",
    "\n",
    "    return None\n",
    "\n",
    "\n",
    "def loadfile(year,month,color):\n",
    "    url =f'https://github.com/DataTalksClub/nyc-tlc-data/releases/download/{color}/{color}_tripdata_{year}-{month:02}.csv.gz'\n",
    "    print(url)\n",
    "    file = pd.read_csv(url)\n",
    "    return file\n",
    "\n",
    "\n",
    "def mainflow(year=2019,color='yellow'):\n",
    "    month = [i for i in range(1,2)]\n",
    "    file_all = pd.DataFrame()\n",
    "    for i in month:\n",
    "        file =loadfile(year,i,color)\n",
    "        file_all = file_all.append(file)\n",
    "    path = f'data\\\\fhv_tripdata_{year}.csv.gz'\n",
    "    pathpa = f'data\\\\fhv_tripdata_{year}.parquet'\n",
    "    file_all.to_csv(path,index=False)\n",
    "    file_all.to_parquet(pathpa,index=False)\n",
    "    writegcs(pathpa)\n",
    "    return None"
   ]
  },
  {
   "cell_type": "code",
   "execution_count": null,
   "metadata": {},
   "outputs": [],
   "source": [
    "mainflow(year=2019)"
   ]
  },
  {
   "cell_type": "code",
   "execution_count": 1,
   "metadata": {},
   "outputs": [],
   "source": [
    "import pandas as pd\n",
    "import glob"
   ]
  },
  {
   "cell_type": "code",
   "execution_count": 2,
   "metadata": {},
   "outputs": [],
   "source": [
    "path = r'D:\\Avalon_Pratice_Code\\ML_Project\\Dataclub\\MLzoomcamp_dataengineer2023\\Homework\\W3\\data\\New folder\\New folder\\*.gz'"
   ]
  },
  {
   "cell_type": "code",
   "execution_count": 3,
   "metadata": {},
   "outputs": [],
   "source": [
    "file_list = glob.glob(path)"
   ]
  },
  {
   "cell_type": "code",
   "execution_count": 4,
   "metadata": {},
   "outputs": [
    {
     "name": "stdout",
     "output_type": "stream",
     "text": [
      "D:\\Avalon_Pratice_Code\\ML_Project\\Dataclub\\MLzoomcamp_dataengineer2023\\Homework\\W3\\data\\New folder\\New folder\\yellow_tripdata_2019-07.csv.gz\n"
     ]
    },
    {
     "name": "stderr",
     "output_type": "stream",
     "text": [
      "c:\\Users\\B\\AppData\\Local\\Programs\\Python\\Python39\\lib\\site-packages\\IPython\\core\\interactiveshell.py:3457: DtypeWarning: Columns (6) have mixed types.Specify dtype option on import or set low_memory=False.\n",
      "  exec(code_obj, self.user_global_ns, self.user_ns)\n"
     ]
    },
    {
     "name": "stdout",
     "output_type": "stream",
     "text": [
      "D:\\Avalon_Pratice_Code\\ML_Project\\Dataclub\\MLzoomcamp_dataengineer2023\\Homework\\W3\\data\\New folder\\New folder\\yellow_tripdata_2019-08.csv.gz\n",
      "D:\\Avalon_Pratice_Code\\ML_Project\\Dataclub\\MLzoomcamp_dataengineer2023\\Homework\\W3\\data\\New folder\\New folder\\yellow_tripdata_2019-09.csv.gz\n",
      "D:\\Avalon_Pratice_Code\\ML_Project\\Dataclub\\MLzoomcamp_dataengineer2023\\Homework\\W3\\data\\New folder\\New folder\\yellow_tripdata_2019-10.csv.gz\n",
      "D:\\Avalon_Pratice_Code\\ML_Project\\Dataclub\\MLzoomcamp_dataengineer2023\\Homework\\W3\\data\\New folder\\New folder\\yellow_tripdata_2019-11.csv.gz\n",
      "D:\\Avalon_Pratice_Code\\ML_Project\\Dataclub\\MLzoomcamp_dataengineer2023\\Homework\\W3\\data\\New folder\\New folder\\yellow_tripdata_2019-12.csv.gz\n"
     ]
    }
   ],
   "source": [
    "file_all = pd.DataFrame()\n",
    "for i in file_list[12:18]:\n",
    "    print(i)\n",
    "    file_all = file_all.append(pd.read_csv(i))\n",
    "file_all.to_parquet('yellow_tripdata_3.parquet')"
   ]
  },
  {
   "cell_type": "code",
   "execution_count": 5,
   "metadata": {},
   "outputs": [],
   "source": [
    "file_all.to_parquet('yellow_tripdata_2.parquet')"
   ]
  },
  {
   "cell_type": "code",
   "execution_count": null,
   "metadata": {},
   "outputs": [],
   "source": []
  }
 ],
 "metadata": {
  "kernelspec": {
   "display_name": "Python 3.9.7 64-bit",
   "language": "python",
   "name": "python3"
  },
  "language_info": {
   "codemirror_mode": {
    "name": "ipython",
    "version": 3
   },
   "file_extension": ".py",
   "mimetype": "text/x-python",
   "name": "python",
   "nbconvert_exporter": "python",
   "pygments_lexer": "ipython3",
   "version": "3.9.7"
  },
  "orig_nbformat": 4,
  "vscode": {
   "interpreter": {
    "hash": "601b049b69c015f341cf049bdfa863242bcd463fff4e9ea5ae96948b9f5d87db"
   }
  }
 },
 "nbformat": 4,
 "nbformat_minor": 2
}
